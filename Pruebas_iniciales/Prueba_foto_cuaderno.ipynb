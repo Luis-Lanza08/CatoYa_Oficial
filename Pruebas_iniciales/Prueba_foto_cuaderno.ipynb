{
 "cells": [
  {
   "cell_type": "code",
   "execution_count": 6,
   "metadata": {},
   "outputs": [],
   "source": [
    "import cv2 as cv\n",
    "import numpy as np\n",
    "img = cv.imread('D:\\Artificial Vision Scripts\\photos\\calle1.jpg')\n",
    "cv.imshow('a' , img)\n",
    "cv.waitKey(0)\n",
    "cv.destroyAllWindows()"
   ]
  },
  {
   "cell_type": "code",
   "execution_count": 30,
   "metadata": {},
   "outputs": [],
   "source": [
    "puntos = img.copy()\n",
    "cv.circle(puntos,(240, 870),10,(255,0,0),2)\n",
    "cv.circle(puntos,(850, 870),10,(255,0,0),2)\n",
    "cv.circle(puntos,(370, 700),10,(255,0,0),2)\n",
    "cv.circle(puntos,(830, 700),10,(255,0,0),2)\n",
    "cv.imshow('puntos' , puntos)\n",
    "cv.waitKey(0)\n",
    "cv.destroyAllWindows()"
   ]
  },
  {
   "cell_type": "code",
   "execution_count": 31,
   "metadata": {},
   "outputs": [],
   "source": [
    "pts1 = np.float32([[370,700],[830,700],[240,879],[850,878]])\n",
    "pts2 = np.float32([[0,0],\n",
    "                   [1000,0],\n",
    "                   [0,1000],   \n",
    "                   [1000,1000]])"
   ]
  },
  {
   "cell_type": "code",
   "execution_count": 34,
   "metadata": {},
   "outputs": [],
   "source": [
    "pers = cv.getPerspectiveTransform(pts1,pts2)\n",
    "imgPers = cv.warpPerspective(img, pers, (1000,1000))\n",
    "cv.imshow('pers' , imgPers)\n",
    "cv.waitKey(0)\n",
    "cv.destroyAllWindows()"
   ]
  },
  {
   "cell_type": "code",
   "execution_count": 38,
   "metadata": {},
   "outputs": [],
   "source": [
    "# filtrar calle\n",
    "\n",
    "\n",
    "gray = cv.cvtColor(imgPers, cv.COLOR_BGR2GRAY)\n",
    "cv.imshow('Gray', gray)\n",
    "\n",
    "\n",
    "threshold, thresh_inv = cv.threshold(gray, 150, 255, cv.THRESH_BINARY_INV )\n",
    "cv.imshow('Simple Thresholded Inverse', thresh_inv)\n",
    "\n",
    "\n",
    "cv.waitKey(0)\n",
    "cv.destroyAllWindows()"
   ]
  },
  {
   "cell_type": "code",
   "execution_count": 42,
   "metadata": {},
   "outputs": [],
   "source": [
    "recta = imgPers.copy()\n",
    "cv.line(recta, (500,0), (500,1000),(255,0,0), thickness=1) # linea dado 2 puntos  thickness de 1 para 1 pixel de grosor\n",
    "cv.imshow('medio' , recta)\n",
    "cv.waitKey(0)\n",
    "cv.destroyAllWindows()"
   ]
  }
 ],
 "metadata": {
  "kernelspec": {
   "display_name": "Python 3",
   "language": "python",
   "name": "python3"
  },
  "language_info": {
   "codemirror_mode": {
    "name": "ipython",
    "version": 3
   },
   "file_extension": ".py",
   "mimetype": "text/x-python",
   "name": "python",
   "nbconvert_exporter": "python",
   "pygments_lexer": "ipython3",
   "version": "3.11.3"
  },
  "orig_nbformat": 4
 },
 "nbformat": 4,
 "nbformat_minor": 2
}
