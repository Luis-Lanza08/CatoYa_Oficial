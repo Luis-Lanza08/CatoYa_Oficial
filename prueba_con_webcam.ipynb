{
 "cells": [
  {
   "cell_type": "code",
   "execution_count": 1,
   "metadata": {},
   "outputs": [],
   "source": [
    "import cv2 as cv\n",
    "import numpy as np\n",
    "import matplotlib.pyplot as plt\n",
    "pts1 = np.float32([[180,400],[460,400],[160,480],[480,480]])\n",
    "pts2 = np.float32([[0,0],\n",
    "                   [500,0],\n",
    "                   [0,500],   \n",
    "                   [500,500]])\n",
    "#    cv.circle(frame,(160, 480),10,(255,0,0),2)\n",
    "#     cv.circle(frame,(480, 480),10,(255,0,0),2)\n",
    "#     cv.circle(frame,(180, 340),10,(255,0,0),2)\n",
    "#     cv.circle(frame,(460, 340),10,(255,0,0),2)"
   ]
  },
  {
   "cell_type": "code",
   "execution_count": 2,
   "metadata": {},
   "outputs": [],
   "source": [
    "capture = cv.VideoCapture(0) #guardar video en variable. Tambien se puede colocar 0  o 1 como parametros para leer webcam\n",
    "while True:\n",
    "    isTrue, frame = capture.read() # hay que leer el video frame por frame (imagen por imagen)\n",
    "    cv.circle(frame,(160, 480),10,(255,0,0),2)\n",
    "    cv.circle(frame,(480, 480),10,(255,0,0),2)\n",
    "    cv.circle(frame,(180, 400),10,(255,0,0),2)\n",
    "    cv.circle(frame,(460, 400),10,(255,0,0),2)\n",
    "    cv.imshow('video', frame) # mostrar cada frame\n",
    "    if cv.waitKey(20) & 0xFF== ord('d'):   # detener video con tecla 'd' y mostrar un frame cada 20 ms\n",
    "        break\n",
    "capture.release()\n",
    "cv.destroyAllWindows()"
   ]
  },
  {
   "cell_type": "code",
   "execution_count": 12,
   "metadata": {},
   "outputs": [],
   "source": []
  },
  {
   "cell_type": "code",
   "execution_count": 23,
   "metadata": {},
   "outputs": [
    {
     "ename": "ValueError",
     "evalue": "zero-size array to reduction operation maximum which has no identity",
     "output_type": "error",
     "traceback": [
      "\u001b[1;31m---------------------------------------------------------------------------\u001b[0m",
      "\u001b[1;31mValueError\u001b[0m                                Traceback (most recent call last)",
      "Cell \u001b[1;32mIn[23], line 21\u001b[0m\n\u001b[0;32m     16\u001b[0m bordes \u001b[38;5;241m=\u001b[39m np\u001b[38;5;241m.\u001b[39mwhere(blancosEnFila \u001b[38;5;241m==\u001b[39m \u001b[38;5;241m255\u001b[39m)[\u001b[38;5;241m0\u001b[39m]\n\u001b[0;32m     19\u001b[0m cv\u001b[38;5;241m.\u001b[39mline(thresh_inv, (\u001b[38;5;241m255\u001b[39m,\u001b[38;5;241m0\u001b[39m), (\u001b[38;5;241m255\u001b[39m,\u001b[38;5;241m500\u001b[39m),(\u001b[38;5;241m255\u001b[39m,\u001b[38;5;241m0\u001b[39m,\u001b[38;5;241m0\u001b[39m), thickness\u001b[38;5;241m=\u001b[39m\u001b[38;5;241m1\u001b[39m)\n\u001b[1;32m---> 21\u001b[0m \u001b[38;5;28mmax\u001b[39m \u001b[38;5;241m=\u001b[39m \u001b[43mnp\u001b[49m\u001b[38;5;241;43m.\u001b[39;49m\u001b[43mamax\u001b[49m\u001b[43m(\u001b[49m\u001b[43mbordes\u001b[49m\u001b[43m)\u001b[49m\n\u001b[0;32m     22\u001b[0m \u001b[38;5;28mmin\u001b[39m \u001b[38;5;241m=\u001b[39m np\u001b[38;5;241m.\u001b[39mamin(bordes)\n\u001b[0;32m     23\u001b[0m medio \u001b[38;5;241m=\u001b[39m (\u001b[38;5;28mmin\u001b[39m\u001b[38;5;241m+\u001b[39m\u001b[38;5;28mmax\u001b[39m)\u001b[38;5;241m/\u001b[39m\u001b[38;5;241m/\u001b[39m\u001b[38;5;241m2\u001b[39m\n",
      "File \u001b[1;32m<__array_function__ internals>:180\u001b[0m, in \u001b[0;36mamax\u001b[1;34m(*args, **kwargs)\u001b[0m\n",
      "File \u001b[1;32mD:\\DATOS ANACONDA\\envs\\IMT-345\\lib\\site-packages\\numpy\\core\\fromnumeric.py:2793\u001b[0m, in \u001b[0;36mamax\u001b[1;34m(a, axis, out, keepdims, initial, where)\u001b[0m\n\u001b[0;32m   2677\u001b[0m \u001b[38;5;129m@array_function_dispatch\u001b[39m(_amax_dispatcher)\n\u001b[0;32m   2678\u001b[0m \u001b[38;5;28;01mdef\u001b[39;00m \u001b[38;5;21mamax\u001b[39m(a, axis\u001b[38;5;241m=\u001b[39m\u001b[38;5;28;01mNone\u001b[39;00m, out\u001b[38;5;241m=\u001b[39m\u001b[38;5;28;01mNone\u001b[39;00m, keepdims\u001b[38;5;241m=\u001b[39mnp\u001b[38;5;241m.\u001b[39m_NoValue, initial\u001b[38;5;241m=\u001b[39mnp\u001b[38;5;241m.\u001b[39m_NoValue,\n\u001b[0;32m   2679\u001b[0m          where\u001b[38;5;241m=\u001b[39mnp\u001b[38;5;241m.\u001b[39m_NoValue):\n\u001b[0;32m   2680\u001b[0m     \u001b[38;5;124;03m\"\"\"\u001b[39;00m\n\u001b[0;32m   2681\u001b[0m \u001b[38;5;124;03m    Return the maximum of an array or maximum along an axis.\u001b[39;00m\n\u001b[0;32m   2682\u001b[0m \n\u001b[1;32m   (...)\u001b[0m\n\u001b[0;32m   2791\u001b[0m \u001b[38;5;124;03m    5\u001b[39;00m\n\u001b[0;32m   2792\u001b[0m \u001b[38;5;124;03m    \"\"\"\u001b[39;00m\n\u001b[1;32m-> 2793\u001b[0m     \u001b[38;5;28;01mreturn\u001b[39;00m \u001b[43m_wrapreduction\u001b[49m\u001b[43m(\u001b[49m\u001b[43ma\u001b[49m\u001b[43m,\u001b[49m\u001b[43m \u001b[49m\u001b[43mnp\u001b[49m\u001b[38;5;241;43m.\u001b[39;49m\u001b[43mmaximum\u001b[49m\u001b[43m,\u001b[49m\u001b[43m \u001b[49m\u001b[38;5;124;43m'\u001b[39;49m\u001b[38;5;124;43mmax\u001b[39;49m\u001b[38;5;124;43m'\u001b[39;49m\u001b[43m,\u001b[49m\u001b[43m \u001b[49m\u001b[43maxis\u001b[49m\u001b[43m,\u001b[49m\u001b[43m \u001b[49m\u001b[38;5;28;43;01mNone\u001b[39;49;00m\u001b[43m,\u001b[49m\u001b[43m \u001b[49m\u001b[43mout\u001b[49m\u001b[43m,\u001b[49m\n\u001b[0;32m   2794\u001b[0m \u001b[43m                          \u001b[49m\u001b[43mkeepdims\u001b[49m\u001b[38;5;241;43m=\u001b[39;49m\u001b[43mkeepdims\u001b[49m\u001b[43m,\u001b[49m\u001b[43m \u001b[49m\u001b[43minitial\u001b[49m\u001b[38;5;241;43m=\u001b[39;49m\u001b[43minitial\u001b[49m\u001b[43m,\u001b[49m\u001b[43m \u001b[49m\u001b[43mwhere\u001b[49m\u001b[38;5;241;43m=\u001b[39;49m\u001b[43mwhere\u001b[49m\u001b[43m)\u001b[49m\n",
      "File \u001b[1;32mD:\\DATOS ANACONDA\\envs\\IMT-345\\lib\\site-packages\\numpy\\core\\fromnumeric.py:86\u001b[0m, in \u001b[0;36m_wrapreduction\u001b[1;34m(obj, ufunc, method, axis, dtype, out, **kwargs)\u001b[0m\n\u001b[0;32m     83\u001b[0m         \u001b[38;5;28;01melse\u001b[39;00m:\n\u001b[0;32m     84\u001b[0m             \u001b[38;5;28;01mreturn\u001b[39;00m reduction(axis\u001b[38;5;241m=\u001b[39maxis, out\u001b[38;5;241m=\u001b[39mout, \u001b[38;5;241m*\u001b[39m\u001b[38;5;241m*\u001b[39mpasskwargs)\n\u001b[1;32m---> 86\u001b[0m \u001b[38;5;28;01mreturn\u001b[39;00m ufunc\u001b[38;5;241m.\u001b[39mreduce(obj, axis, dtype, out, \u001b[38;5;241m*\u001b[39m\u001b[38;5;241m*\u001b[39mpasskwargs)\n",
      "\u001b[1;31mValueError\u001b[0m: zero-size array to reduction operation maximum which has no identity"
     ]
    }
   ],
   "source": [
    "capture = cv.VideoCapture(0) #guardar video en variable. Tambien se puede colocar 0  o 1 como parametros para leer webcam\n",
    "while True:\n",
    "    isTrue, frame = capture.read() # hay que leer el video frame por frame (imagen por imagen)\n",
    "    pers = cv.getPerspectiveTransform(pts1,pts2)\n",
    "    imgPers = cv.warpPerspective(frame, pers, (500,500))\n",
    "\n",
    "    gray = cv.cvtColor(imgPers, cv.COLOR_BGR2GRAY)\n",
    "    #cv.imshow('Gray', gray)\n",
    "    threshold, thresh_inv = cv.threshold(gray, 100, 255, cv.THRESH_BINARY_INV )\n",
    "    #cv.imshow('Simple Thresholded Inverse', thresh_inv)\n",
    "    thresh_inv = cv.cvtColor(thresh_inv, cv.COLOR_GRAY2RGB)\n",
    "\n",
    "    blancosEnFila = thresh_inv[100].astype(np.int32)\n",
    "    x = np.arange(len(blancosEnFila))\n",
    "\n",
    "    bordes = np.where(blancosEnFila == 255)[0]\n",
    "\n",
    "\n",
    "    cv.line(thresh_inv, (255,0), (255,500),(255,0,0), thickness=1)\n",
    "\n",
    "    max = np.amax(bordes)\n",
    "    min = np.amin(bordes)\n",
    "    medio = (min+max)//2\n",
    "\n",
    "    final = thresh_inv.copy()\n",
    "    cv.line(final, (min,0), (min,500),(0,255,0), thickness=5) # linea dado 2 puntos  thickness de 1 para 1 pixel de grosor\n",
    "    cv.line(final, (max,0), (max,1000),(0,255,0), thickness=5) # linea dado 2 puntos  thickness de 1 para 1 pixel de grosor\n",
    "    cv.line(final,(medio,0), (medio,1000),(0,255,0), thickness=5)\n",
    "    cv.imshow('Simple Thresholded Inverse', final)\n",
    "\n",
    "    if cv.waitKey(20) & 0xFF== ord('d'):   # detener video con tecla 'd' y mostrar un frame cada 20 ms\n",
    "        break\n",
    "capture.release()\n",
    "cv.destroyAllWindows()"
   ]
  },
  {
   "cell_type": "code",
   "execution_count": 36,
   "metadata": {},
   "outputs": [
    {
     "data": {
      "text/plain": [
       "array([  0,   0,   0,   1,   1,   1,   2,   2,   2,   3,   3,   3,   4,\n",
       "         4,   4,   5,   5,   5,   6,   6,   6,   7,   7,   7,   8,   8,\n",
       "         8,   9,   9,   9,  10,  10,  10,  11,  11,  11,  12,  12,  12,\n",
       "        13,  13,  13,  14,  14,  14,  15,  15,  15,  16,  16,  16,  17,\n",
       "        17,  17,  18,  18,  18,  19,  19,  19,  20,  20,  20,  21,  21,\n",
       "        21,  22,  22,  22,  23,  23,  23,  24,  24,  24,  25,  25,  25,\n",
       "        26,  26,  26,  27,  27,  27,  28,  28,  28,  29,  29,  29,  30,\n",
       "        30,  30,  31,  31,  31,  32,  32,  32,  33,  33,  33,  34,  34,\n",
       "        34,  35,  35,  35,  36,  36,  36,  37,  37,  37,  38,  38,  38,\n",
       "        39,  39,  39,  40,  40,  40,  41,  41,  41,  42,  42,  42,  43,\n",
       "        43,  43,  44,  44,  44,  45,  45,  45,  46,  46,  46,  47,  47,\n",
       "        47,  48,  48,  48,  49,  49,  49,  50,  50,  50,  51,  51,  51,\n",
       "        52,  52,  52,  53,  53,  53,  54,  54,  54,  55,  55,  55,  56,\n",
       "        56,  56,  57,  57,  57,  58,  58,  58,  59,  59,  59,  60,  60,\n",
       "        60,  61,  61,  61,  62,  62,  62,  63,  63,  63,  64,  64,  64,\n",
       "        65,  65,  65,  66,  66,  66,  67,  67,  67,  68,  68,  68,  69,\n",
       "        69,  69,  70,  70,  70,  71,  71,  71,  72,  72,  72,  73,  73,\n",
       "        73,  74,  74,  74,  75,  75,  75,  76,  76,  76,  77,  77,  77,\n",
       "        78,  78,  78,  79,  79,  79,  80,  80,  80,  81,  81,  81,  82,\n",
       "        82,  82,  83,  83,  83,  84,  84,  84,  85,  85,  85,  86,  86,\n",
       "        86,  87,  87,  87,  88,  88,  88,  89,  89,  89,  90,  90,  90,\n",
       "        91,  91,  91,  92,  92,  92,  93,  93,  93,  94,  94,  94,  95,\n",
       "        95,  95,  96,  96,  96,  97,  97,  97,  98,  98,  98,  99,  99,\n",
       "        99, 100, 100, 100, 101, 101, 101, 102, 102, 102, 103, 103, 103,\n",
       "       104, 104, 104, 105, 105, 105, 106, 106, 106, 107, 107, 107, 108,\n",
       "       108, 108, 109, 109, 109, 110, 110, 110, 111, 111, 111, 112, 112,\n",
       "       112, 113, 113, 113, 114, 114, 114, 115, 115, 115, 116, 116, 116,\n",
       "       117, 117, 117, 118, 118, 118, 119, 119, 119, 120, 120, 120, 121,\n",
       "       121, 121, 122, 122, 122, 123, 123, 123, 124, 124, 124, 125, 125,\n",
       "       125, 126, 126, 126, 127, 127, 127, 128, 128, 128, 129, 129, 129,\n",
       "       130, 130, 130, 131, 131, 131, 132, 132, 132, 133, 133, 133, 134,\n",
       "       134, 134, 135, 135, 135, 136, 136, 136, 137, 137, 137, 138, 138,\n",
       "       138, 139, 139, 139, 140, 140, 140, 141, 141, 141, 142, 142, 142,\n",
       "       143, 143, 143, 144, 144, 144, 145, 145, 145, 146, 146, 146, 147,\n",
       "       147, 147, 148, 148, 148, 149, 149, 149, 150, 150, 150, 151, 151,\n",
       "       151, 152, 152, 152, 153, 153, 153, 154, 154, 154, 155, 155, 155,\n",
       "       156, 156, 156, 157, 157, 157, 158, 158, 158, 159, 159, 159, 160,\n",
       "       160, 160, 161, 161, 161, 162, 162, 162, 163, 163, 163, 164, 164,\n",
       "       164, 165, 165, 165, 166, 166, 166, 167, 167, 167, 168, 168, 168,\n",
       "       169, 169, 169, 170, 170, 170, 171, 171, 171, 172, 172, 172, 173,\n",
       "       173, 173, 174, 174, 174, 175, 175, 175, 176, 176, 176, 177, 177,\n",
       "       177, 178, 178, 178, 179, 179, 179, 180, 180, 180, 181, 181, 181,\n",
       "       182, 182, 182, 183, 183, 183, 184, 184, 184, 185, 185, 185, 186,\n",
       "       186, 186, 187, 187, 187, 188, 188, 188, 189, 189, 189, 190, 190,\n",
       "       190, 191, 191, 191, 192, 192, 192, 193, 193, 193, 194, 194, 194,\n",
       "       195, 195, 195, 196, 196, 196, 197, 197, 197, 198, 198, 198, 199,\n",
       "       199, 199, 200, 200, 200, 201, 201, 201, 202, 202, 202, 203, 203,\n",
       "       203, 204, 204, 204, 205, 205, 205, 206, 206, 206, 207, 207, 207,\n",
       "       208, 208, 208, 209, 209, 209, 210, 210, 210, 211, 211, 211, 212,\n",
       "       212, 212, 213, 213, 213, 214, 214, 214, 215, 215, 215, 216, 216,\n",
       "       216, 217, 217, 217, 218, 218, 218, 219, 219, 219, 220, 220, 220,\n",
       "       221, 221, 221, 222, 222, 222, 223, 223, 223, 224, 224, 224, 225,\n",
       "       225, 225, 226, 226, 226, 227, 227, 227, 228, 228, 228, 229, 229,\n",
       "       229, 230, 230, 230, 231, 231, 231, 232, 232, 232, 233, 233, 233,\n",
       "       234, 234, 234, 235, 235, 235, 236, 236, 236, 237, 237, 237, 238,\n",
       "       238, 238, 239, 239, 239, 240, 240, 240, 241, 241, 241, 242, 242,\n",
       "       242, 243, 243, 243, 244, 244, 244, 245, 245, 245, 246, 246, 246,\n",
       "       247, 247, 247, 248, 248, 248, 249, 249, 249, 250, 250, 250, 251,\n",
       "       251, 251, 252, 252, 252, 253, 253, 253, 254, 254, 254, 255, 255,\n",
       "       255, 256, 256, 256, 257, 257, 257, 258, 258, 258, 259, 259, 259,\n",
       "       260, 260, 260, 261, 261, 261, 262, 262, 262, 263, 263, 263, 264,\n",
       "       264, 264, 265, 265, 265, 266, 266, 266, 267, 267, 267, 268, 268,\n",
       "       268, 269, 269, 269, 270, 270, 270, 271, 271, 271, 272, 272, 272,\n",
       "       273, 273, 273, 274, 274, 274, 275, 275, 275, 276, 276, 276, 277,\n",
       "       277, 277, 278, 278, 278, 279, 279, 279, 280, 280, 280, 281, 281,\n",
       "       281, 282, 282, 282, 283, 283, 283, 284, 284, 284, 285, 285, 285,\n",
       "       286, 286, 286, 287, 287, 287, 288, 288, 288, 289, 289, 289, 290,\n",
       "       290, 290, 291, 291, 291, 292, 292, 292, 293, 293, 293, 294, 294,\n",
       "       294, 295, 295, 295, 296, 296, 296, 297, 297, 297, 298, 298, 298,\n",
       "       299, 299, 299, 300, 300, 300, 301, 301, 301, 302, 302, 302, 303,\n",
       "       303, 303, 304, 304, 304, 305, 305, 305, 306, 306, 306, 307, 307,\n",
       "       307, 308, 308, 308, 309, 309, 309, 310, 310, 310, 311, 311, 311,\n",
       "       312, 312, 312, 313, 313, 313, 314, 314, 314, 315, 315, 315, 316,\n",
       "       316, 316, 317, 317, 317, 318, 318, 318, 319, 319, 319, 320, 320,\n",
       "       320, 321, 321, 321, 322, 322, 322, 323, 323, 323, 324, 324, 324,\n",
       "       325, 325, 325, 326, 326, 326, 327, 327, 327, 328, 328, 328, 329,\n",
       "       329, 329, 330, 330, 330, 331, 331, 331, 332, 332, 332, 333],\n",
       "      dtype=int64)"
      ]
     },
     "execution_count": 36,
     "metadata": {},
     "output_type": "execute_result"
    }
   ],
   "source": [
    "bordes[:1000]\n"
   ]
  },
  {
   "cell_type": "code",
   "execution_count": 24,
   "metadata": {},
   "outputs": [],
   "source": [
    "capture.release()\n",
    "cv.destroyAllWindows()"
   ]
  }
 ],
 "metadata": {
  "kernelspec": {
   "display_name": "Python 3 (ipykernel)",
   "language": "python",
   "name": "python3"
  },
  "language_info": {
   "codemirror_mode": {
    "name": "ipython",
    "version": 3
   },
   "file_extension": ".py",
   "mimetype": "text/x-python",
   "name": "python",
   "nbconvert_exporter": "python",
   "pygments_lexer": "ipython3",
   "version": "3.10.9"
  }
 },
 "nbformat": 4,
 "nbformat_minor": 2
}
